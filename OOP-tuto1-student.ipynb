{
 "cells": [
  {
   "cell_type": "markdown",
   "id": "18d72e06-bcad-478a-9a97-1fced0b1e460",
   "metadata": {},
   "source": [
    "# Tutorial 1: Classes, keywords, operators pointers and references in C++"
   ]
  },
  {
   "cell_type": "markdown",
   "id": "558f934d-f014-48eb-992d-f66cc3aeb1bb",
   "metadata": {},
   "source": [
    "## Objectives\n",
    "\n",
    "<div style=\"border: 2px solid  #9b0e46;\n",
    "            margin: 8px 0 8px 0;\n",
    "            text-align: left;\n",
    "            padding: 8px; \">\n",
    "        <div>\n",
    "    <ul>\n",
    "    <li> Understanding of the specificities of C++ and the legacy from the C language </li>        \n",
    "    <li> Discover the main C++ keywords and when to use them </li>\n",
    "    <li> Manipulating pointers and references to understand their specifities, when to use them and how </li>        \n",
    "    <li> Writing your first class using the implicit argument</li>\n",
    "    <li> Study basic string operators to discover a case of operator overload in a very frequently used class in C++, the string class </li>\n",
    "    <li> Understanding when the implict conversion is done and how to prevent it if not wanted</li>\n",
    "    <li> Overloading operators in a class and understanding when to do it as a class member or not</li>\n",
    "</ul>\n",
    "    </div>\n",
    "</div>"
   ]
  },
  {
   "cell_type": "markdown",
   "id": "054f98c4-d88e-44f2-b344-c2f2f082190c",
   "metadata": {},
   "source": [
    "### Jupyter specificity"
   ]
  },
  {
   "cell_type": "markdown",
   "id": "8bd3eddf-f4a1-491e-8952-351fe3468a65",
   "metadata": {},
   "source": [
    "To edit a cell (code or text), double-click on it. If you have modified a class definition, you have to restart to kernel to avoid an redefinition error."
   ]
  },
  {
   "cell_type": "markdown",
   "id": "fdc0b255-5046-4c8f-9447-1ece031d7e60",
   "metadata": {},
   "source": [
    "Markdown cells starting with **Answer** are celles where you can write your notes. "
   ]
  },
  {
   "cell_type": "markdown",
   "id": "6b455040-5247-4555-a78b-d1c12acad4b2",
   "metadata": {},
   "source": [
    "NB : The jupyter kernel encapsulates the C++ code so it is seen as a script when executing the corresponding cell (shift+enter). It does not require any _main_ function to run the code. However, when you will code during the lab, the compiler will require the _main_ function as the entry point."
   ]
  },
  {
   "cell_type": "markdown",
   "id": "6d70101c-0ab0-4a57-8777-0f8ee3527285",
   "metadata": {
    "tags": []
   },
   "source": [
    "<span style=\"color:red\"> \n",
    "**NB**  There are some bugs with the xeus-cling kernel that lead to errors when defining a function. Most of the times you will need to separate cells to have a single definition per cell. In the last part, this was not sufficient but the use of a namespace solves the issue. \n",
    "</span>"
   ]
  },
  {
   "cell_type": "markdown",
   "id": "56c177a0-ac17-4671-ad23-eb2df0ac4bde",
   "metadata": {},
   "source": [
    "### 1.1 Pointers and references: the basis"
   ]
  },
  {
   "cell_type": "markdown",
   "id": "a4c8552f-678c-4f63-97fa-f4b56e7eadc1",
   "metadata": {},
   "source": [
    "**Question 1.1**  Execute both cell and explain the results.  How to dereference a pointer? A reference? How to get the adress of a variable using a pointer? A reference? "
   ]
  },
  {
   "cell_type": "markdown",
   "id": "5617af5f-be6b-44ea-94e2-09d333668f48",
   "metadata": {},
   "source": [
    "Code with a pointer:"
   ]
  },
  {
   "cell_type": "code",
   "execution_count": null,
   "id": "12404574-2bd2-4865-b45d-9826e3654a2e",
   "metadata": {},
   "outputs": [],
   "source": [
    "#include <iostream>\n",
    "int val = 5;\n",
    "int * pt = & val ;\n",
    "* pt = 1;\n",
    "pt ++;\n",
    "std::cout << \"val :\" << val << \" , *pt: \" <<* pt << std::endl ;\n",
    "std::cout << \"&val:\" << & val << \" , pt: \" << pt << std::endl ;"
   ]
  },
  {
   "cell_type": "markdown",
   "id": "adfb24a2-7ae9-4142-8a79-92cf355fa129",
   "metadata": {
    "tags": []
   },
   "source": [
    "Code with a reference:"
   ]
  },
  {
   "cell_type": "code",
   "execution_count": null,
   "id": "98bfbeaf-e08a-4ab7-bf13-ad04aabd3a07",
   "metadata": {},
   "outputs": [],
   "source": [
    "#include <iostream>\n",
    "int val = 5;\n",
    "int & ref = val ;\n",
    "ref = 1;\n",
    "ref ++;\n",
    "std::cout << \"val: \" << val << \" , ref: \" << ref << std::endl ;\n",
    "std::cout << \"&val : \" << & val << \" , &ref: \" << & ref << std::endl ;"
   ]
  },
  {
   "cell_type": "markdown",
   "id": "4ec4837e-6cc9-4d81-bb7b-9c6eef702fec",
   "metadata": {},
   "source": [
    "**Answer 1.1**  *Write your answer here*"
   ]
  },
  {
   "cell_type": "markdown",
   "id": "7c996e63-76f3-403b-b7ad-9697993f505b",
   "metadata": {},
   "source": [
    "**Question 1.2** Is a pointer always initialized? A reference? How to properly do it?"
   ]
  },
  {
   "cell_type": "markdown",
   "id": "d102a55f-077b-4c37-aa7a-3e6f27d37f92",
   "metadata": {},
   "source": [
    "**Answer 1.2**  *Write your answer here*"
   ]
  },
  {
   "cell_type": "markdown",
   "id": "936ea139-afae-4612-94ba-1c578bf1eaac",
   "metadata": {
    "tags": []
   },
   "source": [
    "### 1.2 Passing pointers and references as arguments"
   ]
  },
  {
   "cell_type": "markdown",
   "id": "00e6e3dd-7dfc-4ed4-a324-701a2ebf28b3",
   "metadata": {
    "tags": []
   },
   "source": [
    "We want a function that swaps two int values. As a first and bad solution, the following function has been proposed:"
   ]
  },
  {
   "cell_type": "code",
   "execution_count": null,
   "id": "1375b596-f5f6-4654-ae19-82ef78d36c3b",
   "metadata": {},
   "outputs": [],
   "source": [
    "#include <iostream>\n",
    "void swapInt(int i, int j)\n",
    "{\n",
    "    int temp = i;\n",
    "    i = j;\n",
    "    j = temp;\n",
    "}\n",
    "int a=4,b=5;\n",
    "std::cout<< \"Before swap : a: \"<<a << \" , b: \"<<b<<std::endl;\n",
    "swapInt(a,b);\n",
    "std::cout<< \"After swap : a: \"<<a << \" , b: \"<<b<<std::endl;"
   ]
  },
  {
   "cell_type": "markdown",
   "id": "f075c656-a79a-49d5-9ade-cfcd64d39121",
   "metadata": {},
   "source": [
    "**Question 1.3**  Why does the swap fail?"
   ]
  },
  {
   "cell_type": "markdown",
   "id": "677e9a10-9e09-44b6-a196-e9e228829a87",
   "metadata": {
    "tags": []
   },
   "source": [
    "**Answer 1.3**  *Write your answer here*"
   ]
  },
  {
   "cell_type": "markdown",
   "id": "d4402e11-56cc-4877-a3a6-096b61b32e58",
   "metadata": {},
   "source": [
    "**Question 1.4** To overcome this issue, implement the following function and its call:"
   ]
  },
  {
   "cell_type": "code",
   "execution_count": null,
   "id": "bf8d6b81-5e97-498b-8690-b8b202e485c2",
   "metadata": {
    "tags": []
   },
   "outputs": [],
   "source": [
    "#include <iostream>\n",
    "void swapcIntPointer(int * i, int * j)\n",
    "{  \n",
    "    /* to be completed*/\n",
    "}\n",
    "int a=4,b=5;\n",
    "std::cout<< \"Before swap : a: \"<<a << \" , b: \"<<b<<std::endl;\n",
    "/* to be completed*/\n",
    "std::cout<< \"After swap : a: \"<<a << \" , b: \"<<b<<std::endl;"
   ]
  },
  {
   "cell_type": "markdown",
   "id": "ffd3ba93-7e60-46af-bb1c-17c42fdc7fbf",
   "metadata": {
    "tags": []
   },
   "source": [
    "**Answer 1.4**  *Write your answer here*"
   ]
  },
  {
   "cell_type": "code",
   "execution_count": null,
   "id": "a64c75d8-be08-4061-80e1-6c51e0202a0c",
   "metadata": {
    "tags": []
   },
   "outputs": [],
   "source": [
    "/* Write your code here*/"
   ]
  },
  {
   "cell_type": "markdown",
   "id": "c863267d-0cf9-4c2e-9fc1-64093bf84bc5",
   "metadata": {},
   "source": [
    "**Question 1.5** As seen in the previous exercise, references are better than pointers. Implement then the following function and its call:"
   ]
  },
  {
   "cell_type": "code",
   "execution_count": null,
   "id": "226e6090-a13d-4378-8b36-24c1e76ae11e",
   "metadata": {
    "tags": []
   },
   "outputs": [],
   "source": [
    "#include <iostream>\n",
    "void swapIntRef(int & i, int & j)\n",
    "{  \n",
    "    /* to be completed*/\n",
    "}\n",
    "int a=4,b=5;\n",
    "std::cout<< \"Before swap : a: \"<<a << \" , b: \"<<b<<std::endl;\n",
    "/* to be completed*/\n",
    "std::cout<< \"After swap : a: \"<<a << \" , b: \"<<b<<std::endl;"
   ]
  },
  {
   "cell_type": "markdown",
   "id": "25bf443f-5826-4e1c-ae9f-ef32af157994",
   "metadata": {
    "tags": []
   },
   "source": [
    "<span style=\"color:red\"> \n",
    "<p>\n",
    "**Answer 1.4**  See code below\n",
    "</span>"
   ]
  },
  {
   "cell_type": "code",
   "execution_count": null,
   "id": "575f8c72-ec14-4f89-90de-eb673087548d",
   "metadata": {
    "tags": []
   },
   "outputs": [],
   "source": [
    "/* Write your code here*/"
   ]
  },
  {
   "cell_type": "markdown",
   "id": "5ad78168-9b26-4fdd-9680-7c231413b82c",
   "metadata": {},
   "source": [
    "**Question 1.6**  When to use references? Pointers? "
   ]
  },
  {
   "cell_type": "markdown",
   "id": "7b199d3b-1e52-48ea-9915-f60174b63b4b",
   "metadata": {
    "tags": []
   },
   "source": [
    "**Answer 1.6**  *Write your answer here*"
   ]
  },
  {
   "cell_type": "markdown",
   "id": "8c64ff14-0a1d-4e83-8745-a767ec827831",
   "metadata": {
    "tags": []
   },
   "source": [
    "### 1.3 Class, struct, implicit argument"
   ]
  },
  {
   "cell_type": "markdown",
   "id": "ac2a1db3-da36-4238-aaa8-7ced4e268b2f",
   "metadata": {},
   "source": [
    "Here a C code around a struct managing a value that can be tresholded (simple example for pedagogic purpose)."
   ]
  },
  {
   "cell_type": "code",
   "execution_count": null,
   "id": "34bb96f6-c7f2-47d4-9973-09294fc8b7c1",
   "metadata": {
    "tags": []
   },
   "outputs": [],
   "source": [
    "#include <stdio.h>\n",
    "typedef struct MyValue_C{\n",
    "    int val_;\n",
    "} MyValue_C;"
   ]
  },
  {
   "cell_type": "code",
   "execution_count": null,
   "id": "9e7165d8-eb4b-4bd1-a981-7d7dda67677c",
   "metadata": {
    "tags": []
   },
   "outputs": [],
   "source": [
    "void init_value_c(MyValue_C * v, int val){v->val_ = val;}"
   ]
  },
  {
   "cell_type": "code",
   "execution_count": null,
   "id": "59b19e3c-cd62-4c0e-909f-47e7849de3f0",
   "metadata": {
    "tags": []
   },
   "outputs": [],
   "source": [
    "MyValue_C threshold_c(MyValue_C * v, int val){MyValue_C thres; if(v->val_ > val) thres.val_ = val;else thres.val_ = v->val_;return thres;}"
   ]
  },
  {
   "cell_type": "code",
   "execution_count": null,
   "id": "52e6c1e7-0413-49cf-a0be-5dade2f31c01",
   "metadata": {
    "tags": []
   },
   "outputs": [],
   "source": [
    "MyValue_C * clone_c(MyValue_C * src){MyValue_C * clone = (MyValue_C*)calloc(sizeof(MyValue_C),1); clone->val_=src->val_; return clone;}"
   ]
  },
  {
   "cell_type": "code",
   "execution_count": null,
   "id": "9e319574-1428-4d45-82e1-ae28a0955437",
   "metadata": {
    "tags": []
   },
   "outputs": [],
   "source": [
    "MyValue_C var_c;\n",
    "init_value_c(&var_c,3);\n",
    "printf(\"Var  before threshold: %d (expected 3)\\n\",var_c.val_);\n",
    "MyValue_C var2 = threshold_c(&var_c,2);\n",
    "printf(\"Var  after threshold: %d (expected 3), var 2 :%d (expected 2)\\n\",var_c.val_,var2.val_);\n",
    "MyValue_C * copy = clone_c(&var_c);\n",
    "printf(\"Var  in clone: %d (expected 3)\\n\",copy -> val_);\n",
    "free ((void*) copy);"
   ]
  },
  {
   "cell_type": "markdown",
   "id": "c34081fd-e51d-488c-a301-af85a373cc68",
   "metadata": {},
   "source": [
    "Here is the C++ code corresponding to the previous C code :"
   ]
  },
  {
   "cell_type": "code",
   "execution_count": null,
   "id": "8a444ef6-a3a4-4397-8272-70721226f517",
   "metadata": {
    "tags": []
   },
   "outputs": [],
   "source": [
    "#include <iostream>\n",
    "class MyValue{\n",
    "   public:\n",
    "    //constructor\n",
    "    MyValue(int v = 0):val_(v){std::cout<<\"Constructor with an int\"<<std::endl;} \n",
    "    \n",
    "    //methods\n",
    "    void setValue(int v){val_ = v;} // equivalent to this->val_ = v; \n",
    "    int getValue() const {return this->val_;} \n",
    "    \n",
    "    MyValue threshold(int v) {if(val_ > v) return MyValue(v) ; return (*this);}\n",
    "    MyValue & operator=(const MyValue & mv){std::cout<<\"Copy operator\"<<std::endl; if((&mv)!=this){/*free step : nothing to do here*/this->val_ = mv.val_;} return *this;}\n",
    "    \n",
    "    MyValue * clone() const {return new MyValue(val_);}\n",
    "    \n",
    "    private:\n",
    "    int val_;\n",
    "};/* end of class MyValue*/"
   ]
  },
  {
   "cell_type": "code",
   "execution_count": null,
   "id": "ffbe9d15-f5ec-4afb-ac13-5642986320e3",
   "metadata": {
    "tags": []
   },
   "outputs": [],
   "source": [
    "#include <iostream>\n",
    "using namespace std;\n",
    "MyValue var(3);\n",
    "cout<<\"var before threshold: (should be 3) \"<<var.getValue()<<endl;\n",
    "MyValue var2 = var.threshold(2);\n",
    "cout<<\"var after threshold: (should be 3) \"<<var.getValue()<< \" , v2: (should be 2) \"<<var2.getValue()<<endl;\n",
    "MyValue * copy =  var.clone();\n",
    "cout<<\"var after setValue: (should be 3) \"<<copy->getValue()<<endl;"
   ]
  },
  {
   "cell_type": "markdown",
   "id": "e171a746-d112-45e3-957d-2b3f4bef1911",
   "metadata": {},
   "source": [
    "**Question 1.7**  Study the constructor implementation. Why write :val_(v) before its body ?"
   ]
  },
  {
   "cell_type": "markdown",
   "id": "b8980f45-5551-4693-a150-f8a976fffe00",
   "metadata": {
    "tags": []
   },
   "source": [
    "**Answer 1.7**  *Write your answer here*"
   ]
  },
  {
   "cell_type": "markdown",
   "id": "3a928cfd-ea04-4f40-b568-c1023f0e31ce",
   "metadata": {},
   "source": [
    "**Question 1.8**  Try to replace a var.getValue() by a var.val_. Try to recompile, an error should occur. Why?"
   ]
  },
  {
   "cell_type": "markdown",
   "id": "476f9d5e-9530-40ed-a3de-797039c34221",
   "metadata": {},
   "source": [
    "**Question 1.9**  Find every word *const* or *inline* and explain their use"
   ]
  },
  {
   "cell_type": "markdown",
   "id": "cfdad70b-79b6-4a69-b954-048f3d782735",
   "metadata": {
    "tags": []
   },
   "source": [
    "**Answer 1.9**  *Write your answer here*"
   ]
  },
  {
   "cell_type": "markdown",
   "id": "f7df1eb5-d7dc-4775-8d79-f18b217418e3",
   "metadata": {},
   "source": [
    "**Question 1.10**  *threshold*, *operator=* and *clone* ahve a differnt type of return. What is the difference and why?"
   ]
  },
  {
   "cell_type": "markdown",
   "id": "fc708034-4e3c-4783-9a0c-7f247193596c",
   "metadata": {
    "tags": []
   },
   "source": [
    "**Answer 1.10**  *Write your answer here*"
   ]
  },
  {
   "cell_type": "markdown",
   "id": "b2f0dfab-46cb-41bb-90bc-78de0cc543ad",
   "metadata": {},
   "source": [
    "**Question 1.11**  In fact, struct can have constructors and methods in C++, as you can see in the following cells. What is the difference between classes and structures in C++? When should you use classes rather than structures? "
   ]
  },
  {
   "cell_type": "code",
   "execution_count": null,
   "id": "58d6b5eb-680f-47b1-a1ad-94c432033ed3",
   "metadata": {
    "tags": []
   },
   "outputs": [],
   "source": [
    "#include <iostream>\n",
    "typedef struct MyValue_s{\n",
    "   public:\n",
    "    //constructor\n",
    "    MyValue_s(int v = 0):val_(v){std::cout<<\"Constructor with an int\"<<std::endl;} \n",
    "    \n",
    "    //methods\n",
    "    void setValue(int v){val_ = v;} // equivalent to this->val_ = v; \n",
    "    int getValue() const {return this->val_;} \n",
    "    \n",
    "    MyValue_s  & threshold(int v) {if(val_ > v) val_ = v ; return (*this);}\n",
    "    MyValue_s & operator=(const MyValue_s & mv){std::cout<<\"Copy operator\"<<std::endl; if((&mv)!=this){/*free step : nothing to do here*/this->val_ = mv.val_;} return *this;}\n",
    "    \n",
    "    private:\n",
    "    int val_;\n",
    "}MyValue_s;/* end of struct MyValue_s*/\n"
   ]
  },
  {
   "cell_type": "code",
   "execution_count": null,
   "id": "9856107a-94c6-4d4f-9783-ed31a39fe614",
   "metadata": {
    "tags": []
   },
   "outputs": [],
   "source": [
    "#include <iostream>\n",
    "using namespace std;\n",
    "MyValue_s v1(3);\n",
    "MyValue_s v2;\n",
    "v2.setValue(v1.getValue()+1);\n",
    "cout<<\"v1 before threshold: (should be 3) \"<<v1.getValue()<< \" , v2: (should be 4) \"<<v2.getValue()<<endl;\n",
    "v2 = v1.threshold(2);\n",
    "cout<<\"v1 after threshold: (should be 2) \"<<v1.getValue()<< \" , v2: (should be 2) \"<<v2.getValue()<<endl;\n",
    "v2.setValue(5);\n",
    "cout<<\"v1 after setValue: (should be 2) \"<<v1.getValue()<< \" , v2: (should be 5) \"<<v2.getValue()<<endl;\n",
    "\n"
   ]
  },
  {
   "cell_type": "markdown",
   "id": "cc5b4854-c631-474a-bd9f-dcae5f122297",
   "metadata": {
    "tags": []
   },
   "source": [
    "**Answer 1.11**  *Write your answer here*"
   ]
  },
  {
   "cell_type": "markdown",
   "id": "d13582d7-3f30-4348-9620-abcd7422d174",
   "metadata": {
    "tags": []
   },
   "source": [
    "### 1.4 Operators"
   ]
  },
  {
   "cell_type": "markdown",
   "id": "609ad4c5-bf4d-4e2c-95e0-55703ab01d57",
   "metadata": {},
   "source": [
    "**Question 1.12**  Explain the result of the following code :"
   ]
  },
  {
   "cell_type": "code",
   "execution_count": null,
   "id": "e13b6e80-f9cf-4d8d-8305-e86670210b44",
   "metadata": {
    "tags": []
   },
   "outputs": [],
   "source": [
    "#include <iostream>\n",
    "#include <string>\n",
    "#include <stdio.h>\n",
    "\n",
    "char cs [] = \"Hi! \" ;\n",
    "char * cs2 = \"\" ;\n",
    "std::string ss = \"Hi! \" ;\n",
    "std::string ss2 ;\n",
    "std::cout << \"****** After init \" << std::endl ;\n",
    "std::cout << \" cs \\t: \" <<cs << std::endl ;\n",
    "std::cout << \" cs2 \\t: \" << cs2 << std::endl ;\n",
    "std::cout << \" ss \\t: \" <<ss << std::endl ;\n",
    "std::cout << \" ss2 \\t: \" << ss2 << std::endl ;\n",
    "cs2 = cs ;\n",
    "ss2 = ss ;\n",
    "std::cout << \"****** After copy \" << std::endl ;\n",
    "std::cout << \" cs \\t: \" <<cs << std::endl ;\n",
    "std::cout << \" cs2 \\t: \" << cs2 << std::endl ;\n",
    "std::cout << \" ss \\t: \" <<ss << std::endl ;\n",
    "std::cout << \" ss2 \\t: \" << ss2 << std::endl ;\n",
    "cs2 [0] = 'h';\n",
    "ss2 [0] = 'h';\n",
    "std::cout << \"****** After char change \" << std::endl ;\n",
    "std::cout << \" cs \\t: \" <<cs << std::endl ;\n",
    "std::cout << \" cs2 \\t: \" << cs2 << std::endl ;\n",
    "std::cout << \" ss \\t: \" <<ss << std::endl ;\n",
    "std::cout << \" ss2 \\t: \" << ss2 << std::endl ;\n",
    "cs2 = cs2 + 1;\n",
    "ss = ss + \" CaMarche \" ;\n",
    "std::cout << \"****** After  operator+ \" << std::endl ;\n",
    "std::cout << \" cs2 \\t: \" << cs2 << std::endl ;\n",
    "std::cout<< \" ss \\t: \" <<ss << std::endl ;\n"
   ]
  },
  {
   "cell_type": "markdown",
   "id": "b6bea19c-21d1-41a4-b12c-5d0146e4f3a1",
   "metadata": {
    "tags": []
   },
   "source": [
    "**Answer 1.12**  *Write your answer here*"
   ]
  },
  {
   "cell_type": "markdown",
   "id": "e0fdad4d-efc2-46c0-b739-002a855ffbdd",
   "metadata": {
    "tags": []
   },
   "source": [
    "### 1.5 Classes and operators as a class member"
   ]
  },
  {
   "cell_type": "markdown",
   "id": "2e798dbb-9795-4be3-952b-fe75a16ba8db",
   "metadata": {
    "tags": []
   },
   "source": [
    "We want a Complex class that represents a complex number compounds of a real part and an imaginary one. It should be designed to enable operators as for a build-in numerical types. Here is the declaration and definition of the first version of the class:\n",
    "    "
   ]
  },
  {
   "cell_type": "code",
   "execution_count": null,
   "id": "cea85cc1-ad97-4b38-ac9a-66ace4cb7cf9",
   "metadata": {
    "tags": []
   },
   "outputs": [],
   "source": [
    "namespace tuto1{\n",
    "    class ComplexV1{\n",
    "        public:\n",
    "            ComplexV1(double r = 0, double i = 0):real_(r),imaginary_(i){}\n",
    "\n",
    "            inline void setReal(double r){real_=r;}\n",
    "            inline void setImaginary(double i){imaginary_=i;}\n",
    "            inline double getReal()const {return real_;}\n",
    "            inline double getImaginary()const{return imaginary_;}\n",
    "        \n",
    "            ComplexV1& operator+=(const ComplexV1 & right){real_+=right.real_;imaginary_+=right.imaginary_;return *this;}\n",
    "        \n",
    "            // the version of operator+ as a member of the class ComplexV1\n",
    "            ComplexV1 operator+(const ComplexV1 & right)const{ComplexV1 copy(*this); copy+=right;return copy;}\n",
    "\n",
    "            //increment operators\n",
    "            ComplexV1 & operator++() {++real_;return *this;} //prefix\n",
    "            ComplexV1 operator++(int) {auto previous=*this; ++(*this);return previous;} //postfix\n",
    "\n",
    "        private:\n",
    "            double real_;\n",
    "            double imaginary_;\n",
    "    };//end of class ComplexV1\n",
    "}//end namespace\n"
   ]
  },
  {
   "cell_type": "markdown",
   "id": "62a2c490-d298-47d1-86b4-55cfcbad2c43",
   "metadata": {},
   "source": [
    "**Question 1.13**  What does mean the 'const' keyword in the getters (getReal and getImaginary) prototype? What does mean the 'const' keyword in the operator+= prototype?"
   ]
  },
  {
   "cell_type": "markdown",
   "id": "1694b954-9737-488b-8bdb-36c3a6d25b60",
   "metadata": {},
   "source": [
    "**Question 1.14**  Why using a namespace?"
   ]
  },
  {
   "cell_type": "markdown",
   "id": "33bab6eb-c2d8-4982-9659-bf49d2712bc0",
   "metadata": {
    "tags": []
   },
   "source": [
    "**Answer 1.14**  *Write your answer here*"
   ]
  },
  {
   "cell_type": "markdown",
   "id": "8dcffb2c-d5e7-49e6-ba71-7a77e0fbf9ea",
   "metadata": {},
   "source": [
    "**Question 1.15** What is the value of these ComplexV1 instances? (We do not ask you to code a display but to study the provided code above to answer this question for pedagogical reasons)"
   ]
  },
  {
   "cell_type": "code",
   "execution_count": null,
   "id": "e228e3ee-353a-4b05-9c61-eaffe3401f05",
   "metadata": {
    "tags": []
   },
   "outputs": [],
   "source": [
    "tuto1::ComplexV1 c1 (1 ,1) ;\n",
    "tuto1::ComplexV1 c2;\n",
    "tuto1::ComplexV1 c3 (4) ;\n",
    "tuto1::ComplexV1 c4 (c3) ;\n",
    "tuto1::ComplexV1 c5 = c1 + 1 ;\n",
    "tuto1::ComplexV1 c6[3];\n",
    "std::vector<tuto1::ComplexV1> c7(3);"
   ]
  },
  {
   "cell_type": "markdown",
   "id": "1b417516-4ec6-4446-a314-7e5506927158",
   "metadata": {
    "tags": []
   },
   "source": [
    "**Answer 1.15**  *Write your answer here*"
   ]
  },
  {
   "cell_type": "markdown",
   "id": "a7ba9c1a-92cc-43eb-96d9-a0848c1519b2",
   "metadata": {},
   "source": [
    "**Question 1.16**  Do you need a copy operator? A destructor?"
   ]
  },
  {
   "cell_type": "markdown",
   "id": "94438786-1372-4b36-b828-75150f32966c",
   "metadata": {
    "tags": []
   },
   "source": [
    "**Answer 1.16**  *Write your answer here*"
   ]
  },
  {
   "cell_type": "markdown",
   "id": "e061574b-e121-489f-aa9b-25ef74ece371",
   "metadata": {},
   "source": [
    "**Question 1.17**  Indicate for each requested line which class method are used, what is the implicit argument and what are the values before and after the operator calls (Once again, we do not want any display of the result, just a study of the code for pedagogical reasons)."
   ]
  },
  {
   "cell_type": "code",
   "execution_count": null,
   "id": "2cea2e61-302b-45e6-8c52-253ba66184d9",
   "metadata": {
    "tags": []
   },
   "outputs": [],
   "source": [
    "tuto1::ComplexV1 cc1 (1 ,1) ;\n",
    "tuto1::ComplexV1 cc2 = cc1 + 1 ;\n",
    "tuto1::ComplexV1 cc3 (cc2) ;\n",
    "//line 1\n",
    "cc3 = cc2 ++; \n",
    "//line 2\n",
    "cc3 = ++cc2 ; \n",
    "//line 3\n",
    "cc1 += cc3 + 1;"
   ]
  },
  {
   "cell_type": "code",
   "execution_count": null,
   "id": "6da0878a-6775-4ae9-bc16-ed12d868b090",
   "metadata": {
    "tags": []
   },
   "outputs": [],
   "source": [
    "/* !! Only for teacher !!*/\n",
    "tuto1::ComplexV1 cc1 (1 ,1) ;\n",
    "tuto1::ComplexV1 cc2 = cc1 + 1 ;\n",
    "tuto1::ComplexV1 cc3 (cc2) ;\n",
    "//cc1 = (1,1), cc2= (2,1), cc3 = (2,1)\n",
    "//line 1 \n",
    "cc3 = cc2 ++; // postfix incrementation of the real part (returns the complex value before incrementation). cc2 as implicit argument\n",
    "//cc1 = (1,1), cc2= (3,1), cc3 = (2,1)\n",
    "//line 2\n",
    "cc3 = ++cc2 ;  //prefix incrementation  of the real part (returns the complex value after incrementation). cc2 as implicit argument\n",
    "//cc1 = (1,1), cc2= (4,1), cc3 = (4,1)\n",
    "//line 3\n",
    "cc1 += cc3 + 1; // implicit conversion from int to ComplexV1, then operator + with cc3 as implicit argument then operator += with cc1 as implicit argument\n",
    "//cc1 = (6,2), cc2= (2,1), cc3 = (2,1)"
   ]
  },
  {
   "cell_type": "markdown",
   "id": "433e2b99-4c48-4471-b07b-e4a0a24638f5",
   "metadata": {
    "tags": []
   },
   "source": [
    "**Answer 1.17**  *Write your answer here*"
   ]
  },
  {
   "cell_type": "markdown",
   "id": "bb373b36-c05e-4f0c-ac1b-e9f636c66369",
   "metadata": {},
   "source": [
    "**Question 1.18**  In the ComplexV1 class, implicit conversion is relevant to use it as any numerical built-in types. However, how could you withdraw that feature for the Complex class (ie if we want to disable implicit conversion)? After this change, the following line code should not compile anymore"
   ]
  },
  {
   "cell_type": "code",
   "execution_count": null,
   "id": "4d8d01e9-ad01-4e80-8c34-644305a1cb42",
   "metadata": {
    "tags": []
   },
   "outputs": [],
   "source": [
    "tuto1::ComplexV1 ccc1 (1 ,1) ;\n",
    "tuto1::ComplexV1 ccc2 = ccc1 + 1 ;"
   ]
  },
  {
   "cell_type": "markdown",
   "id": "ed870902-2235-4a30-8a39-8087d18f45c9",
   "metadata": {
    "tags": []
   },
   "source": [
    "**Answer 1.18**  *Write your answer here*"
   ]
  },
  {
   "cell_type": "markdown",
   "id": "7ce680b1-a034-4115-8fe6-817964d3b1b8",
   "metadata": {
    "tags": []
   },
   "source": [
    "### 1.6 Classes and operators outside the class"
   ]
  },
  {
   "cell_type": "markdown",
   "id": "50063609-1fa9-4ed7-aa4b-325f68881b7e",
   "metadata": {},
   "source": [
    "**Question 1.19**  To display the content of a ComplexV1 instance, the operator<< should be implemented to be used as in the following code. Is it an unary operator or a binary one? Should it be defined as a member of the class or not? Implement it."
   ]
  },
  {
   "cell_type": "code",
   "execution_count": null,
   "id": "c7e13150-1f37-4efd-92c4-7dbca06a26c9",
   "metadata": {},
   "outputs": [],
   "source": [
    "/*Write your code here*/"
   ]
  },
  {
   "cell_type": "markdown",
   "id": "1995b12f-ab3f-43e6-8dba-a319d8fcc8dc",
   "metadata": {
    "tags": []
   },
   "source": [
    "### 1.7 Operators as a class member...  or not: if you have the choice, do you want conversion on the left-hand side parameter of the operator?"
   ]
  },
  {
   "cell_type": "markdown",
   "id": "e0ccb31e-4067-477c-bdf3-7a17f5920691",
   "metadata": {},
   "source": [
    "**Question 1.20** Why the code declaring comp2 is ok but not the line declaring comp3?"
   ]
  },
  {
   "cell_type": "code",
   "execution_count": null,
   "id": "5c4578db-7b2a-4c6c-81d0-99ca3750c956",
   "metadata": {},
   "outputs": [],
   "source": [
    "tuto1::ComplexV1 comp1 (1 ,1) ;\n",
    "tuto1::ComplexV1 comp2 = comp1 + 1 ;\n",
    "tuto1::ComplexV1 comp3 = 1 + comp1 ; // will not compile"
   ]
  },
  {
   "cell_type": "markdown",
   "id": "4ecc5794-acaf-462b-878d-6a7ac9fd2fb2",
   "metadata": {},
   "source": [
    "**Answer 1.20**  *Write your answer here*"
   ]
  },
  {
   "cell_type": "markdown",
   "id": "cf5ef6a0-9a1a-4bdc-b145-0069f9e15973",
   "metadata": {},
   "source": [
    "**Question 1.21**  Propose another declaration and definition of operator+ in the second version of the Complex class so that the provided code works."
   ]
  },
  {
   "cell_type": "code",
   "execution_count": null,
   "id": "82f809de-9ec7-420f-82d9-28d9bb51b43e",
   "metadata": {
    "tags": []
   },
   "outputs": [],
   "source": [
    "namespace tuto1{\n",
    "    class ComplexV2{\n",
    "        public:\n",
    "            ComplexV2(double r = 0, double i = 0):real_(r),imaginary_(i){}\n",
    "\n",
    "            inline void setReal(double r){real_=r;}\n",
    "            inline void setImaginary(double i){imaginary_=i;}\n",
    "            inline double getReal()const {return real_;}\n",
    "            inline double getImaginary()const{return imaginary_;}\n",
    "        \n",
    "            ComplexV2& operator+=(const ComplexV2 & right){real_+=right.real_;imaginary_+=right.imaginary_;return *this;}\n",
    "        \n",
    "            //increment operators\n",
    "            ComplexV2 & operator++() {++real_;return *this;} //prefix\n",
    "            ComplexV2 operator++(int) {auto previous=*this; ++(*this);return previous;} //postfix\n",
    "\n",
    "        private:\n",
    "            double real_;\n",
    "            double imaginary_;\n",
    "    };//end of class Complex\n",
    "}//end namespace\n"
   ]
  },
  {
   "cell_type": "code",
   "execution_count": null,
   "id": "75a3f23b-80fd-4397-8f32-6e7adb789757",
   "metadata": {},
   "outputs": [],
   "source": [
    "/*  Write your code here */"
   ]
  },
  {
   "cell_type": "code",
   "execution_count": null,
   "id": "d187e5b9-56df-46ac-a981-1f2aee5ad9d7",
   "metadata": {
    "tags": []
   },
   "outputs": [],
   "source": [
    "#include <iostream>\n",
    "#include <string>\n",
    "tuto1::ComplexV2 c1 (1 ,1) ;\n",
    "tuto1::ComplexV2 c2 = c1 + 1 ;\n",
    "tuto1::ComplexV2 c3 (c2) ;\n",
    "c3 = c2 ++; // postfix incrementation of the real part (returns the complex value before incrementation)\n",
    "++c2 ; //prefix incrementation  of the real part (returns the complex value after incrementation)\n",
    "c1 += 3 + c3;"
   ]
  },
  {
   "cell_type": "markdown",
   "id": "8d3acd12-829b-4c88-9b2d-e4480bef7a01",
   "metadata": {
    "tags": []
   },
   "source": [
    "### 1.8 Sum up"
   ]
  },
  {
   "cell_type": "markdown",
   "id": "d33e698d-52d1-479b-bf6e-dd608787fb6e",
   "metadata": {
    "tags": []
   },
   "source": [
    "* As in C language, when you want to modify an function argument, you have to pass it by address.\n",
    "* As in C language, apart from the built-in types, any function argument should be by default passed by address anyway for a sake of efficiency. The keyword **const** should be used when the argument passed by address is not supposed to be modified.\n",
    "* When manipulating a variable by address, references have to be used by default.\n",
    "* Prefer pass-by-reference-to-const over pass-by-value. Exceptions for built-in types (and STL iterators and function object types that will be seen later).\n",
    "* The instance on which a function is called is the implicit argument. If it is a binary operator, it is the left-handed operand.\n",
    "* Return a reference when returning the implicit argument\n",
    "* Good practise : never write 'using namespace std' in a header file. \n",
    "* Always use available and relevant constructors on class members before the constructor body . \n",
    "* The keyword **this** is a pointer to the implicit argument. It can be explicitly written or not\n",
    "* The keyword **const** at the end of the function arguments means the implicit argument is not modified. It should be used as much as possible when the specification of the function does not implies a modification of the implicit argument.\n",
    "* Use string class instead of char * to manipulate an array of char.\n",
    "* Overload binary operators as non-member of the related class when implict conversion is wanted for both right-hand side and left-hand side operators.\n",
    "* The keyword **explicit** before a constructor prevents from implicit conversion using this constructor.\n",
    "    "
   ]
  },
  {
   "cell_type": "markdown",
   "id": "86425332-f902-49e4-8a43-dbeb765bf347",
   "metadata": {
    "tags": []
   },
   "source": [
    "### 1.9 Skills required at the end of this tutorial"
   ]
  },
  {
   "cell_type": "markdown",
   "id": "58f64919-5ef4-4363-b26d-5e1437d98a1b",
   "metadata": {
    "tags": []
   },
   "source": [
    "* I know what those words or symbols mean and how to use them : \n",
    "    * private, public, protected, \n",
    "    * const, \n",
    "    * explicit, \n",
    "    * &, *, \n",
    "    * namespace, \n",
    "    * this, \n",
    "    * inline\n",
    "* I know what is the implicit argument and how to use it\n",
    "* I know how to declare a class and manage the visibility of its components\n",
    "* I know how to overload an operator and how to choose its best declaration\n",
    "* I know how and when to use references"
   ]
  },
  {
   "cell_type": "markdown",
   "id": "2fd784a9-4f77-4abd-8260-b89cc3b437d3",
   "metadata": {},
   "source": [
    "License for the whole document : CC-BY-NC-ND (mpressig@insa-rennes.fr)"
   ]
  }
 ],
 "metadata": {
  "kernelspec": {
   "display_name": "C++14",
   "language": "C++14",
   "name": "xcpp14"
  },
  "language_info": {
   "codemirror_mode": "text/x-c++src",
   "file_extension": ".cpp",
   "mimetype": "text/x-c++src",
   "name": "c++",
   "version": "14"
  }
 },
 "nbformat": 4,
 "nbformat_minor": 5
}
